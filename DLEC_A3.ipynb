{
  "cells": [
    {
      "cell_type": "code",
      "source": [
        "import tensorflow as tf\n",
        "from tensorflow.keras.datasets import mnist\n",
        "from tensorflow.keras.models import Sequential\n",
        "from tensorflow.keras.layers import Dense, Flatten\n",
        "from tensorflow.keras.optimizers import SGD, Adam, RMSprop\n",
        "import time\n",
        "\n",
        "# Load the MNIST dataset\n",
        "(x_train, y_train), (x_test, y_test) = mnist.load_data()\n",
        "\n",
        "# Normalize the data\n",
        "x_train = x_train / 255.0\n",
        "x_test = x_test / 255.0\n",
        "\n",
        "# Convert labels to one-hot encoding\n",
        "y_train = tf.keras.utils.to_categorical(y_train, 10)\n",
        "y_test = tf.keras.utils.to_categorical(y_test, 10)"
      ],
      "metadata": {
        "colab": {
          "base_uri": "https://localhost:8080/"
        },
        "id": "VZ9uAlwler1U",
        "outputId": "1dfbd02c-20b9-4214-c04e-763437e6d3f7"
      },
      "execution_count": 1,
      "outputs": [
        {
          "output_type": "stream",
          "name": "stdout",
          "text": [
            "Downloading data from https://storage.googleapis.com/tensorflow/tf-keras-datasets/mnist.npz\n",
            "\u001b[1m11490434/11490434\u001b[0m \u001b[32m━━━━━━━━━━━━━━━━━━━━\u001b[0m\u001b[37m\u001b[0m \u001b[1m2s\u001b[0m 0us/step\n"
          ]
        }
      ]
    },
    {
      "cell_type": "code",
      "source": [
        "def create_model():\n",
        "    model = Sequential()\n",
        "    model.add(Flatten(input_shape=(28, 28)))\n",
        "    model.add(Dense(128, activation='relu'))\n",
        "    model.add(Dense(64, activation='relu'))\n",
        "    model.add(Dense(10, activation='softmax'))\n",
        "    return model"
      ],
      "metadata": {
        "id": "Wxb0ugVtewa9"
      },
      "execution_count": 2,
      "outputs": []
    },
    {
      "cell_type": "code",
      "source": [
        "# Hyperparameters\n",
        "learning_rates = [0.001, 0.01, 0.1]\n",
        "batch_sizes = [32, 64, 128]\n",
        "optimizers = {\n",
        "    'SGD': SGD,\n",
        "    'Adam': Adam,\n",
        "    'RMSprop': RMSprop\n",
        "}"
      ],
      "metadata": {
        "id": "1eP9qhuhe0Y2"
      },
      "execution_count": 3,
      "outputs": []
    },
    {
      "cell_type": "code",
      "source": [
        "results = {}\n",
        "\n",
        "for opt_name, opt_func in optimizers.items():\n",
        "    for lr in learning_rates:\n",
        "        for batch_size in batch_sizes:\n",
        "            print(f\"Training with {opt_name}, Learning Rate: {lr}, Batch Size: {batch_size}\")\n",
        "\n",
        "            # Create a fresh model for each combination\n",
        "            model = create_model()\n",
        "\n",
        "            # Compile the model with the chosen optimizer and learning rate\n",
        "            optimizer = opt_func(learning_rate=lr)\n",
        "            model.compile(optimizer=optimizer, loss='categorical_crossentropy', metrics=['accuracy'])\n",
        "\n",
        "            # Track training time\n",
        "            start_time = time.time()\n",
        "\n",
        "            # Train the model\n",
        "            history = model.fit(x_train, y_train, epochs=10, batch_size=batch_size, validation_data=(x_test, y_test), verbose=0)\n",
        "\n",
        "            # Calculate total training time\n",
        "            training_time = time.time() - start_time\n",
        "\n",
        "            # Record the final test accuracy and training time\n",
        "            test_loss, test_accuracy = model.evaluate(x_test, y_test, verbose=0)\n",
        "\n",
        "            # Save the results\n",
        "            results[(opt_name, lr, batch_size)] = {\n",
        "                'accuracy': test_accuracy,\n",
        "                'training_time': training_time\n",
        "            }\n",
        "\n",
        "            print(f\"Test Accuracy: {test_accuracy:.4f}, Training Time: {training_time:.2f} seconds\\n\")"
      ],
      "metadata": {
        "colab": {
          "base_uri": "https://localhost:8080/"
        },
        "id": "Iac8A7zCe2mi",
        "outputId": "8b3937d0-1c9f-43be-ccc6-1eb8c7c26fe3"
      },
      "execution_count": 4,
      "outputs": [
        {
          "metadata": {
            "tags": null
          },
          "name": "stdout",
          "output_type": "stream",
          "text": [
            "Training with SGD, Learning Rate: 0.001, Batch Size: 32\n"
          ]
        },
        {
          "metadata": {
            "tags": null
          },
          "name": "stderr",
          "output_type": "stream",
          "text": [
            "/usr/local/lib/python3.10/dist-packages/keras/src/layers/reshaping/flatten.py:37: UserWarning: Do not pass an `input_shape`/`input_dim` argument to a layer. When using Sequential models, prefer using an `Input(shape)` object as the first layer in the model instead.\n",
            "  super().__init__(**kwargs)\n"
          ]
        },
        {
          "output_type": "stream",
          "name": "stdout",
          "text": [
            "Test Accuracy: 0.9136, Training Time: 43.57 seconds\n",
            "\n",
            "Training with SGD, Learning Rate: 0.001, Batch Size: 64\n",
            "Test Accuracy: 0.8896, Training Time: 22.73 seconds\n",
            "\n",
            "Training with SGD, Learning Rate: 0.001, Batch Size: 128\n",
            "Test Accuracy: 0.8393, Training Time: 13.86 seconds\n",
            "\n",
            "Training with SGD, Learning Rate: 0.01, Batch Size: 32\n",
            "Test Accuracy: 0.9636, Training Time: 39.02 seconds\n",
            "\n",
            "Training with SGD, Learning Rate: 0.01, Batch Size: 64\n",
            "Test Accuracy: 0.9512, Training Time: 21.36 seconds\n",
            "\n",
            "Training with SGD, Learning Rate: 0.01, Batch Size: 128\n",
            "Test Accuracy: 0.9318, Training Time: 15.43 seconds\n",
            "\n",
            "Training with SGD, Learning Rate: 0.1, Batch Size: 32\n",
            "Test Accuracy: 0.9800, Training Time: 46.40 seconds\n",
            "\n",
            "Training with SGD, Learning Rate: 0.1, Batch Size: 64\n",
            "Test Accuracy: 0.9762, Training Time: 26.81 seconds\n",
            "\n",
            "Training with SGD, Learning Rate: 0.1, Batch Size: 128\n",
            "Test Accuracy: 0.9721, Training Time: 14.67 seconds\n",
            "\n",
            "Training with Adam, Learning Rate: 0.001, Batch Size: 32\n",
            "Test Accuracy: 0.9773, Training Time: 41.28 seconds\n",
            "\n",
            "Training with Adam, Learning Rate: 0.001, Batch Size: 64\n",
            "Test Accuracy: 0.9778, Training Time: 25.89 seconds\n",
            "\n",
            "Training with Adam, Learning Rate: 0.001, Batch Size: 128\n",
            "Test Accuracy: 0.9761, Training Time: 16.56 seconds\n",
            "\n",
            "Training with Adam, Learning Rate: 0.01, Batch Size: 32\n",
            "Test Accuracy: 0.9602, Training Time: 51.61 seconds\n",
            "\n",
            "Training with Adam, Learning Rate: 0.01, Batch Size: 64\n",
            "Test Accuracy: 0.9683, Training Time: 25.69 seconds\n",
            "\n",
            "Training with Adam, Learning Rate: 0.01, Batch Size: 128\n",
            "Test Accuracy: 0.9693, Training Time: 15.57 seconds\n",
            "\n",
            "Training with Adam, Learning Rate: 0.1, Batch Size: 32\n",
            "Test Accuracy: 0.2076, Training Time: 50.50 seconds\n",
            "\n",
            "Training with Adam, Learning Rate: 0.1, Batch Size: 64\n",
            "Test Accuracy: 0.2291, Training Time: 25.40 seconds\n",
            "\n",
            "Training with Adam, Learning Rate: 0.1, Batch Size: 128\n",
            "Test Accuracy: 0.4484, Training Time: 15.00 seconds\n",
            "\n",
            "Training with RMSprop, Learning Rate: 0.001, Batch Size: 32\n",
            "Test Accuracy: 0.9810, Training Time: 40.86 seconds\n",
            "\n",
            "Training with RMSprop, Learning Rate: 0.001, Batch Size: 64\n",
            "Test Accuracy: 0.9768, Training Time: 26.84 seconds\n",
            "\n",
            "Training with RMSprop, Learning Rate: 0.001, Batch Size: 128\n",
            "Test Accuracy: 0.9773, Training Time: 16.79 seconds\n",
            "\n",
            "Training with RMSprop, Learning Rate: 0.01, Batch Size: 32\n",
            "Test Accuracy: 0.9434, Training Time: 43.34 seconds\n",
            "\n",
            "Training with RMSprop, Learning Rate: 0.01, Batch Size: 64\n",
            "Test Accuracy: 0.9653, Training Time: 24.28 seconds\n",
            "\n",
            "Training with RMSprop, Learning Rate: 0.01, Batch Size: 128\n",
            "Test Accuracy: 0.9720, Training Time: 12.48 seconds\n",
            "\n",
            "Training with RMSprop, Learning Rate: 0.1, Batch Size: 32\n",
            "Test Accuracy: 0.4475, Training Time: 44.15 seconds\n",
            "\n",
            "Training with RMSprop, Learning Rate: 0.1, Batch Size: 64\n",
            "Test Accuracy: 0.5029, Training Time: 25.45 seconds\n",
            "\n",
            "Training with RMSprop, Learning Rate: 0.1, Batch Size: 128\n",
            "Test Accuracy: 0.5172, Training Time: 13.46 seconds\n",
            "\n"
          ]
        }
      ]
    },
    {
      "cell_type": "code",
      "source": [
        "# Print the results in a structured way\n",
        "for params, result in results.items():\n",
        "    opt_name, lr, batch_size = params\n",
        "    accuracy = result['accuracy']\n",
        "    training_time = result['training_time']\n",
        "    print(f\"Optimizer: {opt_name}, Learning Rate: {lr}, Batch Size: {batch_size}\")\n",
        "    print(f\"Accuracy: {accuracy:.4f}, Training Time: {training_time:.2f} seconds\")\n",
        "    print('-' * 40)"
      ],
      "metadata": {
        "colab": {
          "base_uri": "https://localhost:8080/"
        },
        "id": "QHSzcgy5e6uc",
        "outputId": "dbeabd7b-494a-4d72-b5c5-f8a0c532dba1"
      },
      "execution_count": 5,
      "outputs": [
        {
          "output_type": "stream",
          "name": "stdout",
          "text": [
            "Optimizer: SGD, Learning Rate: 0.001, Batch Size: 32\n",
            "Accuracy: 0.9136, Training Time: 43.57 seconds\n",
            "----------------------------------------\n",
            "Optimizer: SGD, Learning Rate: 0.001, Batch Size: 64\n",
            "Accuracy: 0.8896, Training Time: 22.73 seconds\n",
            "----------------------------------------\n",
            "Optimizer: SGD, Learning Rate: 0.001, Batch Size: 128\n",
            "Accuracy: 0.8393, Training Time: 13.86 seconds\n",
            "----------------------------------------\n",
            "Optimizer: SGD, Learning Rate: 0.01, Batch Size: 32\n",
            "Accuracy: 0.9636, Training Time: 39.02 seconds\n",
            "----------------------------------------\n",
            "Optimizer: SGD, Learning Rate: 0.01, Batch Size: 64\n",
            "Accuracy: 0.9512, Training Time: 21.36 seconds\n",
            "----------------------------------------\n",
            "Optimizer: SGD, Learning Rate: 0.01, Batch Size: 128\n",
            "Accuracy: 0.9318, Training Time: 15.43 seconds\n",
            "----------------------------------------\n",
            "Optimizer: SGD, Learning Rate: 0.1, Batch Size: 32\n",
            "Accuracy: 0.9800, Training Time: 46.40 seconds\n",
            "----------------------------------------\n",
            "Optimizer: SGD, Learning Rate: 0.1, Batch Size: 64\n",
            "Accuracy: 0.9762, Training Time: 26.81 seconds\n",
            "----------------------------------------\n",
            "Optimizer: SGD, Learning Rate: 0.1, Batch Size: 128\n",
            "Accuracy: 0.9721, Training Time: 14.67 seconds\n",
            "----------------------------------------\n",
            "Optimizer: Adam, Learning Rate: 0.001, Batch Size: 32\n",
            "Accuracy: 0.9773, Training Time: 41.28 seconds\n",
            "----------------------------------------\n",
            "Optimizer: Adam, Learning Rate: 0.001, Batch Size: 64\n",
            "Accuracy: 0.9778, Training Time: 25.89 seconds\n",
            "----------------------------------------\n",
            "Optimizer: Adam, Learning Rate: 0.001, Batch Size: 128\n",
            "Accuracy: 0.9761, Training Time: 16.56 seconds\n",
            "----------------------------------------\n",
            "Optimizer: Adam, Learning Rate: 0.01, Batch Size: 32\n",
            "Accuracy: 0.9602, Training Time: 51.61 seconds\n",
            "----------------------------------------\n",
            "Optimizer: Adam, Learning Rate: 0.01, Batch Size: 64\n",
            "Accuracy: 0.9683, Training Time: 25.69 seconds\n",
            "----------------------------------------\n",
            "Optimizer: Adam, Learning Rate: 0.01, Batch Size: 128\n",
            "Accuracy: 0.9693, Training Time: 15.57 seconds\n",
            "----------------------------------------\n",
            "Optimizer: Adam, Learning Rate: 0.1, Batch Size: 32\n",
            "Accuracy: 0.2076, Training Time: 50.50 seconds\n",
            "----------------------------------------\n",
            "Optimizer: Adam, Learning Rate: 0.1, Batch Size: 64\n",
            "Accuracy: 0.2291, Training Time: 25.40 seconds\n",
            "----------------------------------------\n",
            "Optimizer: Adam, Learning Rate: 0.1, Batch Size: 128\n",
            "Accuracy: 0.4484, Training Time: 15.00 seconds\n",
            "----------------------------------------\n",
            "Optimizer: RMSprop, Learning Rate: 0.001, Batch Size: 32\n",
            "Accuracy: 0.9810, Training Time: 40.86 seconds\n",
            "----------------------------------------\n",
            "Optimizer: RMSprop, Learning Rate: 0.001, Batch Size: 64\n",
            "Accuracy: 0.9768, Training Time: 26.84 seconds\n",
            "----------------------------------------\n",
            "Optimizer: RMSprop, Learning Rate: 0.001, Batch Size: 128\n",
            "Accuracy: 0.9773, Training Time: 16.79 seconds\n",
            "----------------------------------------\n",
            "Optimizer: RMSprop, Learning Rate: 0.01, Batch Size: 32\n",
            "Accuracy: 0.9434, Training Time: 43.34 seconds\n",
            "----------------------------------------\n",
            "Optimizer: RMSprop, Learning Rate: 0.01, Batch Size: 64\n",
            "Accuracy: 0.9653, Training Time: 24.28 seconds\n",
            "----------------------------------------\n",
            "Optimizer: RMSprop, Learning Rate: 0.01, Batch Size: 128\n",
            "Accuracy: 0.9720, Training Time: 12.48 seconds\n",
            "----------------------------------------\n",
            "Optimizer: RMSprop, Learning Rate: 0.1, Batch Size: 32\n",
            "Accuracy: 0.4475, Training Time: 44.15 seconds\n",
            "----------------------------------------\n",
            "Optimizer: RMSprop, Learning Rate: 0.1, Batch Size: 64\n",
            "Accuracy: 0.5029, Training Time: 25.45 seconds\n",
            "----------------------------------------\n",
            "Optimizer: RMSprop, Learning Rate: 0.1, Batch Size: 128\n",
            "Accuracy: 0.5172, Training Time: 13.46 seconds\n",
            "----------------------------------------\n"
          ]
        }
      ]
    }
  ],
  "metadata": {
    "accelerator": "GPU",
    "colab": {
      "gpuType": "T4",
      "provenance": []
    },
    "kernelspec": {
      "display_name": "Python 3",
      "name": "python3"
    },
    "language_info": {
      "name": "python"
    }
  },
  "nbformat": 4,
  "nbformat_minor": 0
}